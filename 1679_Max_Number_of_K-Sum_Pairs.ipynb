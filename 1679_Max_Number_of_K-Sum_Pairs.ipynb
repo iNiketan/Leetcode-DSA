{
 "cells": [
  {
   "cell_type": "markdown",
   "metadata": {},
   "source": [
    "1679. Max Number of K-Sum Pairs\n",
    "\n",
    "https://leetcode.com/problems/max-number-of-k-sum-pairs/description/?envType=study-plan-v2&envId=leetcode-75"
   ]
  },
  {
   "cell_type": "markdown",
   "metadata": {},
   "source": [
    "# Intuition \n",
    "just like in 0, 1, 2,4,5,6,7,8, 9 . \n",
    "\n",
    "sum of left and right = 11 me agar we start from each end .\n",
    "\n",
    "hame pair is tarah milte hai .\n",
    "\n",
    "1, 9 < 11 increase left 2,9 = 11 then .\n",
    "\n",
    "4,8 > 11 decrease right 4,7 = 11 .\n",
    "\n",
    "similar intuition yaha bhi hai  .\n"
   ]
  },
  {
   "cell_type": "code",
   "execution_count": 8,
   "metadata": {},
   "outputs": [],
   "source": [
    "def maxOperations(nums, k):\n",
    "    pairs = 0\n",
    "    nums.sort()\n",
    "    i, j = 0, len(nums) - 1\n",
    "\n",
    "    while i < j:\n",
    "        if nums[i] + nums[j] == k:\n",
    "            pairs += 1\n",
    "            i += 1\n",
    "            j -= 1\n",
    "        elif nums[i] + nums[j] < k:\n",
    "            i += 1\n",
    "        else:\n",
    "            j -= 1\n",
    "        \n",
    "    return pairs"
   ]
  },
  {
   "cell_type": "code",
   "execution_count": 12,
   "metadata": {},
   "outputs": [
    {
     "name": "stdout",
     "output_type": "stream",
     "text": [
      "2 1 2\n"
     ]
    }
   ],
   "source": [
    "print(maxOperations([4,4,1,3,1,3,2,2,5,5,1,5,2,1,2,3,5,4], 2),\n",
    "maxOperations(nums = [3,1,3,4,3], k = 6),\n",
    "maxOperations(nums = [1,2,3,4], k = 5))\n"
   ]
  },
  {
   "cell_type": "markdown",
   "metadata": {},
   "source": [
    "The idea is that there is only one int k - n that can be paired with n. That said we can remember which and how many k - n do we need when n is encountered. If we find k - n, we can delete one n from dict because we can't use that int more than once.\n",
    "\n",
    "We can use default dictionary from python lib so not to get ValueError in the absence of some key."
   ]
  },
  {
   "cell_type": "code",
   "execution_count": 17,
   "metadata": {},
   "outputs": [],
   "source": [
    "from collections import defaultdict\n",
    "\n",
    "\n",
    "def maxOperations(nums, k):\n",
    "    pair = defaultdict(int) # integer 0 is the default value of all the keys\n",
    "    res = 0\n",
    "    \n",
    "    for n in nums:\n",
    "        if pair[n]: # if we encountered k - n already\n",
    "            res += 1\n",
    "            pair[n] -= 1\n",
    "        else: # if we did'n find a pair yet\n",
    "            pair[k - n] += 1\n",
    "            \n",
    "    return res"
   ]
  },
  {
   "cell_type": "code",
   "execution_count": 18,
   "metadata": {},
   "outputs": [
    {
     "name": "stdout",
     "output_type": "stream",
     "text": [
      "defaultdict(<class 'int'>, {})\n"
     ]
    }
   ],
   "source": [
    "p = defaultdict(int)\n",
    "print(p)"
   ]
  },
  {
   "cell_type": "code",
   "execution_count": null,
   "metadata": {},
   "outputs": [],
   "source": []
  }
 ],
 "metadata": {
  "kernelspec": {
   "display_name": "learn",
   "language": "python",
   "name": "python3"
  },
  "language_info": {
   "codemirror_mode": {
    "name": "ipython",
    "version": 3
   },
   "file_extension": ".py",
   "mimetype": "text/x-python",
   "name": "python",
   "nbconvert_exporter": "python",
   "pygments_lexer": "ipython3",
   "version": "3.9.16"
  },
  "orig_nbformat": 4
 },
 "nbformat": 4,
 "nbformat_minor": 2
}
