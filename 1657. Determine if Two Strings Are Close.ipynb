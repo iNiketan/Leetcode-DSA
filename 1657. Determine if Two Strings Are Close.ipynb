{
 "cells": [
  {
   "cell_type": "markdown",
   "metadata": {},
   "source": [
    "# 1657. Determine if Two Strings Are Close\n",
    "\n",
    "https://leetcode.com/problems/determine-if-two-strings-are-close/description/"
   ]
  },
  {
   "cell_type": "code",
   "execution_count": 2,
   "metadata": {},
   "outputs": [],
   "source": [
    "from collections import Counter"
   ]
  },
  {
   "cell_type": "markdown",
   "metadata": {},
   "source": [
    "\n",
    "<li> \"Operation 1: Swap any two existing characters. For example, abcde -> aecdb\" both strings should have same characters other wise we will not be able to swap\n",
    "<li>Operation 2: Transform every occurrence of one existing character into another existing character, and do the same with the other character.\n",
    "\n",
    "    For example, aacabb -> bbcbaa (all a's turn into b's, and all b's turn into a's)\n",
    "\n",
    "### Intuition \n",
    "\n",
    "<li> both the strings should be of same length <br>\n",
    "<li> both stings should have same characters \n",
    "<li> both strings should have same no of each characters if not then the combination of <br>\n",
    "combination should be same eg: (aacabb -> bbcbaa) a2b3c1 or a1b2c3 as according to 2nd operation we can transform each occurrence of one existing character into another existing character. \n",
    "eg sorted 2,3,1 = 1,2,3\n"
   ]
  },
  {
   "cell_type": "code",
   "execution_count": 1,
   "metadata": {},
   "outputs": [],
   "source": [
    "def closeStrings(word1: str, word2: str) -> bool:\n",
    "    map1 = Counter(word1)\n",
    "    map2 = Counter(word2)\n",
    "\n",
    "    if len(word1) == len(word2): # both the strings should be of same length\n",
    "        if map1.keys() == map2.keys(): # both stings should have same characters \n",
    "            if sorted(map1.values()) == sorted(map2.values()): # sorting becouse [1, 2, 3] != [2,1,3]\n",
    "                return True\n",
    "    return False\n",
    "                   "
   ]
  },
  {
   "cell_type": "code",
   "execution_count": 16,
   "metadata": {},
   "outputs": [
    {
     "data": {
      "text/plain": [
       "True"
      ]
     },
     "execution_count": 16,
     "metadata": {},
     "output_type": "execute_result"
    }
   ],
   "source": [
    "word1 = \"cabbba\"\n",
    "word2 = \"abbccc\"\n",
    "closeStrings(word1, word2)"
   ]
  },
  {
   "cell_type": "code",
   "execution_count": null,
   "metadata": {},
   "outputs": [],
   "source": [
    "# Input: word1 = \"cabbba\", word2 = \"abbccc\"\n",
    "# Output: true\n",
    "# Explanation: You can attain word2 from word1 in 3 operations.\n",
    "# Apply Operation 1: \"cabbba\" -> \"caabbb\"\n",
    "# Apply Operation 2: \"caabbb\" -> \"baaccc\"\n",
    "# Apply Operation 2: \"baaccc\" -> \"abbccc\""
   ]
  },
  {
   "cell_type": "markdown",
   "metadata": {},
   "source": [
    "##### Testing stuff"
   ]
  },
  {
   "cell_type": "code",
   "execution_count": 5,
   "metadata": {},
   "outputs": [
    {
     "name": "stdout",
     "output_type": "stream",
     "text": [
      "{'c': 1, 'a': 2, 'b': 3}\n",
      "dict_keys(['c', 'a', 'b'])\n",
      "dict_values([1, 2, 3])\n",
      "dict_values([1, 2, 3])\n",
      "True\n",
      "True\n"
     ]
    }
   ],
   "source": [
    "word1 = \"cabbba\"\n",
    "word2 = \"abbccc\"\n",
    "\n",
    "map1 = Counter(word1)\n",
    "map2 = Counter(word2)\n",
    "\n",
    "# counter implementation\n",
    "mapx = {}\n",
    "for i in word1:\n",
    "    mapx[i] = mapx.get(i, 0) + 1\n",
    "print(mapx)\n",
    "\n",
    "print(map1.keys()) # Returns list of keys\n",
    "print(map1.values()) # Returns list of values\n",
    "print(map2.values())\n",
    "\n",
    "if map1.keys() == map2.keys():\n",
    "    print(True)\n",
    "else:\n",
    "    print(False)\n",
    "\n",
    "if sorted(map1.values()) == sorted(map2.values()): \n",
    "    print(True)\n",
    "else:\n",
    "    print(False)"
   ]
  },
  {
   "cell_type": "markdown",
   "metadata": {},
   "source": [
    "unsorted list are not equal"
   ]
  },
  {
   "cell_type": "code",
   "execution_count": 12,
   "metadata": {},
   "outputs": [],
   "source": [
    "if [1, 2, 3] == [2,1,3]:\n",
    "    print(1)"
   ]
  },
  {
   "cell_type": "code",
   "execution_count": null,
   "metadata": {},
   "outputs": [],
   "source": []
  }
 ],
 "metadata": {
  "kernelspec": {
   "display_name": "learn",
   "language": "python",
   "name": "python3"
  },
  "language_info": {
   "codemirror_mode": {
    "name": "ipython",
    "version": 3
   },
   "file_extension": ".py",
   "mimetype": "text/x-python",
   "name": "python",
   "nbconvert_exporter": "python",
   "pygments_lexer": "ipython3",
   "version": "3.9.16"
  }
 },
 "nbformat": 4,
 "nbformat_minor": 2
}
