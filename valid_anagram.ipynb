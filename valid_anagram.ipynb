{
 "cells": [
  {
   "cell_type": "code",
   "execution_count": 5,
   "metadata": {},
   "outputs": [],
   "source": [
    "def anag(s, t):\n",
    "    if len(s) != len(t):\n",
    "        return False\n",
    "    \n",
    "    for i in s:\n",
    "        if s.count(i) != t.count(i):\n",
    "            return False\n",
    "    return True\n"
   ]
  },
  {
   "cell_type": "code",
   "execution_count": 29,
   "metadata": {},
   "outputs": [],
   "source": [
    "def isanag(s,t):\n",
    "    counter_s = {}\n",
    "    counter_t = {}\n",
    "    for i in range(len(s)):\n",
    "        # creating hash-map for both strings\n",
    "        counter_s[s[i]] = 1 + counter_s.get(s[i], 0)\n",
    "        counter_t[t[i]] = 1 + counter_t.get(t[i], 0)\n",
    "    \n",
    "    return counter_t == counter_s"
   ]
  },
  {
   "cell_type": "code",
   "execution_count": 16,
   "metadata": {},
   "outputs": [],
   "source": [
    "# another solution \n",
    "import collections\n",
    "def isAnagram(s: str, t: str) -> bool:\n",
    "    # here collections.Counter create hash-map of character in string \n",
    "    # if two hash-map are same true else false\n",
    "    return collections.Counter(s) == collections.Counter(t)"
   ]
  },
  {
   "cell_type": "code",
   "execution_count": 30,
   "metadata": {},
   "outputs": [
    {
     "name": "stdout",
     "output_type": "stream",
     "text": [
      "{'r': 1, 'a': 1, 't': 1}\n",
      "{'c': 1, 'a': 1, 'r': 1}\n"
     ]
    },
    {
     "data": {
      "text/plain": [
       "False"
      ]
     },
     "execution_count": 30,
     "metadata": {},
     "output_type": "execute_result"
    }
   ],
   "source": [
    "isanag(s = \"rat\", t = \"car\")"
   ]
  },
  {
   "cell_type": "code",
   "execution_count": 1,
   "metadata": {},
   "outputs": [],
   "source": [
    "def count_kmodulo_numbers(N, k):\n",
    "    count = 0\n",
    "    even_digits = odd_digits = 0\n",
    "    # Calculate even and odd digits for the first multiple of k\n",
    "    i = k\n",
    "    while i > 0:\n",
    "        if i % 2 == 0:\n",
    "            even_digits += 1\n",
    "        else:\n",
    "            odd_digits += 1\n",
    "        i //= 10\n",
    "    # Check each multiple of k in the range, using the calculated even and odd digits\n",
    "    for i in range(k, N+1, k):\n",
    "        if even_digits == odd_digits:\n",
    "            count += 1\n",
    "        if i+k > N:\n",
    "            break\n",
    "        # Update even and odd digits for the next multiple of k\n",
    "        if (i+1) % k == 0:\n",
    "            if (i+1) % 2 == 0:\n",
    "                even_digits += 1\n",
    "            else:\n",
    "                odd_digits += 1\n",
    "        if (i+k-1) % k == 0:\n",
    "            if (i+k-1) % 2 == 0:\n",
    "                even_digits -= 1\n",
    "            else:\n",
    "                odd_digits -= 1\n",
    "    return count"
   ]
  },
  {
   "cell_type": "code",
   "execution_count": 4,
   "metadata": {},
   "outputs": [
    {
     "name": "stdout",
     "output_type": "stream",
     "text": [
      "0\n"
     ]
    }
   ],
   "source": [
    "print(count_kmodulo_numbers(10,2))"
   ]
  },
  {
   "cell_type": "code",
   "execution_count": null,
   "metadata": {},
   "outputs": [],
   "source": []
  }
 ],
 "metadata": {
  "kernelspec": {
   "display_name": "learn",
   "language": "python",
   "name": "python3"
  },
  "language_info": {
   "codemirror_mode": {
    "name": "ipython",
    "version": 3
   },
   "file_extension": ".py",
   "mimetype": "text/x-python",
   "name": "python",
   "nbconvert_exporter": "python",
   "pygments_lexer": "ipython3",
   "version": "3.9.16"
  },
  "orig_nbformat": 4,
  "vscode": {
   "interpreter": {
    "hash": "aae2a3a997741fbbe2f395c43d83d7d861c169ce21a3dab6c93024fb2a1d8f28"
   }
  }
 },
 "nbformat": 4,
 "nbformat_minor": 2
}
