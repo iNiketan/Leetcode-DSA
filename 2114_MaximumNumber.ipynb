{
 "cells": [
  {
   "cell_type": "markdown",
   "metadata": {},
   "source": [
    "2114. Maximum Number of Words Found in Sentences\n",
    "\n",
    "https://leetcode.com/problems/maximum-number-of-words-found-in-sentences/description/"
   ]
  },
  {
   "cell_type": "code",
   "execution_count": 1,
   "metadata": {},
   "outputs": [],
   "source": [
    "def mostWordsFound(sentences):\n",
    "      maxCount = 0\n",
    "\n",
    "      for i in sentences:\n",
    "        count = 0\n",
    "        for j in range(len(i)):\n",
    "          if i[j] == \" \":\n",
    "            count += 1\n",
    "        maxCount = max(maxCount, count)\n",
    "      \n",
    "      return maxCount + 1"
   ]
  },
  {
   "cell_type": "code",
   "execution_count": 2,
   "metadata": {},
   "outputs": [],
   "source": [
    "def mostWordsFound(sentences):\n",
    "        c=[]\n",
    "        for i in sentences:\n",
    "            c.append(i.count(\" \"))\n",
    "        return max(c)+1"
   ]
  },
  {
   "cell_type": "code",
   "execution_count": 4,
   "metadata": {},
   "outputs": [
    {
     "name": "stdout",
     "output_type": "stream",
     "text": [
      "6 3\n"
     ]
    }
   ],
   "source": [
    "print(mostWordsFound(sentences = [\"alice and bob love leetcode\", \"i think so too\", \"this is great thanks very much\"]), \n",
    "      mostWordsFound(sentences = [\"please wait\", \"continue to fight\", \"continue to win\"]))"
   ]
  },
  {
   "cell_type": "code",
   "execution_count": null,
   "metadata": {},
   "outputs": [],
   "source": []
  }
 ],
 "metadata": {
  "kernelspec": {
   "display_name": "learn",
   "language": "python",
   "name": "python3"
  },
  "language_info": {
   "codemirror_mode": {
    "name": "ipython",
    "version": 3
   },
   "file_extension": ".py",
   "mimetype": "text/x-python",
   "name": "python",
   "nbconvert_exporter": "python",
   "pygments_lexer": "ipython3",
   "version": "3.9.16"
  },
  "orig_nbformat": 4
 },
 "nbformat": 4,
 "nbformat_minor": 2
}
