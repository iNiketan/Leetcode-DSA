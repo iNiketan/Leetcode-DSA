{
 "cells": [
  {
   "cell_type": "markdown",
   "metadata": {},
   "source": [
    "11. Container With Most Water\n",
    "\n",
    "https://leetcode.com/problems/container-with-most-water/description/?envType=study-plan-v2&envId=leetcode-75"
   ]
  },
  {
   "cell_type": "code",
   "execution_count": 3,
   "metadata": {},
   "outputs": [],
   "source": [
    "# brute force solution \n",
    "# time exceeded in big list \n",
    "def maxArea(height):\n",
    "    max_area = 0\n",
    "    x, y = 0, 0\n",
    "\n",
    "    for i in range(len(height)):\n",
    "        for j in range(i+1, len(height)):\n",
    "            area = (j-i) * min(height[i], height[j])\n",
    "            if area > max_area:\n",
    "                max_area = area\n",
    "                x, y = i, j\n",
    "    \n",
    "    return max_area\n",
    "            \n",
    "        "
   ]
  },
  {
   "cell_type": "code",
   "execution_count": 10,
   "metadata": {},
   "outputs": [
    {
     "data": {
      "text/plain": [
       "49"
      ]
     },
     "execution_count": 10,
     "metadata": {},
     "output_type": "execute_result"
    }
   ],
   "source": [
    "maxArea(height = [1,8,6,2,5,4,8,3,7])"
   ]
  },
  {
   "cell_type": "code",
   "execution_count": 7,
   "metadata": {},
   "outputs": [],
   "source": [
    "# panchualy  deependra kumar sahu 7389911718 chindwada "
   ]
  },
  {
   "cell_type": "markdown",
   "metadata": {},
   "source": [
    "#2 pointer Approch "
   ]
  },
  {
   "cell_type": "code",
   "execution_count": 9,
   "metadata": {},
   "outputs": [],
   "source": [
    "def maxArea(height) -> int:\n",
    "        left = 0\n",
    "        right = len(height) - 1\n",
    "        maxArea = 0\n",
    "\n",
    "        while left < right:\n",
    "            currentArea = min(height[left], height[right]) * (right - left)\n",
    "            maxArea = max(maxArea, currentArea)\n",
    "\n",
    "            if height[left] < height[right]:\n",
    "                left += 1\n",
    "            else:\n",
    "                right -= 1\n",
    "\n",
    "        return maxArea"
   ]
  },
  {
   "cell_type": "markdown",
   "metadata": {},
   "source": [
    "Intuition:\n",
    "\n",
    "The two-pointer technique starts with the widest container and moves the pointers inward based on the comparison of heights.\n",
    "Increasing the width of the container can only lead to a larger area if the height of the new boundary is greater. By moving the pointers towards the center, we explore containers with the potential for greater areas.\n",
    "Explanation:\n",
    "\n",
    "    Initialize the variables:\n",
    "        left to represent the left pointer, starting at the beginning of the container (index 0).\n",
    "        right to represent the right pointer, starting at the end of the container (index height.size() - 1).\n",
    "        maxArea to keep track of the maximum area found, initially set to 0.\n",
    "\n",
    "    Enter a loop using the condition left < right, which means the pointers have not crossed each other yet.\n",
    "\n",
    "    Calculate the current area:\n",
    "        Use the min function to find the minimum height between the left and right pointers.\n",
    "        Multiply the minimum height by the width, which is the difference between the indices of the pointers: (right - left).\n",
    "        Store this value in the currentArea variable.\n",
    "\n",
    "    Update the maximum area:\n",
    "        Use the max function to compare the currentArea with the maxArea.\n",
    "        If the currentArea is greater than the maxArea, update maxArea with the currentArea.\n",
    "\n",
    "    Move the pointers inward: (Explained in detail below)\n",
    "        Check if the height at the left pointer is smaller than the height at the right pointer.\n",
    "        If so, increment the left pointer, moving it towards the center of the container.\n",
    "        Otherwise, decrement the right pointer, also moving it towards the center.\n",
    "\n",
    "    Repeat steps 3 to 5 until the pointers meet (left >= right), indicating that all possible containers have been explored.\n",
    "\n",
    "    Return the maxArea, which represents the maximum area encountered among all the containers.\n",
    "\n",
    "Update the maximum area:\n",
    "\n",
    "The purpose of this condition is to determine which pointer to move inward, either the left pointer (i) or the right pointer (j), based on the comparison of heights at their respective positions.\n",
    "\n",
    "Imagine you have two containers represented by the heights at the left and right pointers. The condition checks which container has a smaller height and moves the pointer corresponding to that container.\n",
    "\n",
    "    If height[i] > height[j]:\n",
    "        This means that the height of the left container is greater than the height of the right container.\n",
    "        Moving the right pointer (j) would not increase the potential area because the height of the right container is the limiting factor.\n",
    "        So, to explore containers with the possibility of greater areas, we need to move the right pointer inward by decrementing j.\n",
    "\n",
    "    If height[i] <= height[j]:\n",
    "        This means that the height of the left container is less than or equal to the height of the right container.\n",
    "        Moving the left pointer (i) would not increase the potential area because the height of the left container is the limiting factor.\n",
    "        So, to explore containers with the possibility of greater areas, we need to move the left pointer inward by incrementing i.\n",
    "\n",
    "By making these pointer movements, we ensure that we are always exploring containers with the potential for larger areas. The approach is based on the observation that increasing the width of the container can only lead to a larger area if the height of the new boundary is greater.\n",
    "By following this condition and moving the pointers accordingly, the algorithm explores all possible containers and finds the one with the maximum area."
   ]
  },
  {
   "cell_type": "code",
   "execution_count": null,
   "metadata": {},
   "outputs": [],
   "source": []
  }
 ],
 "metadata": {
  "kernelspec": {
   "display_name": "learn",
   "language": "python",
   "name": "python3"
  },
  "language_info": {
   "codemirror_mode": {
    "name": "ipython",
    "version": 3
   },
   "file_extension": ".py",
   "mimetype": "text/x-python",
   "name": "python",
   "nbconvert_exporter": "python",
   "pygments_lexer": "ipython3",
   "version": "3.9.16"
  },
  "orig_nbformat": 4
 },
 "nbformat": 4,
 "nbformat_minor": 2
}
