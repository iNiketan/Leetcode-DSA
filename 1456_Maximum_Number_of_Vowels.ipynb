{
 "cells": [
  {
   "cell_type": "markdown",
   "metadata": {},
   "source": [
    "# 1456. Maximum Number of Vowels in a Substring of Given Length\n",
    "\n",
    "Window Sliding Algorithm\n",
    "\n",
    "https://leetcode.com/problems/maximum-number-of-vowels-in-a-substring-of-given-length/description/?envType=study-plan-v2&envId=leetcode-75"
   ]
  },
  {
   "cell_type": "code",
   "execution_count": 1,
   "metadata": {},
   "outputs": [],
   "source": [
    "def maxVowels(s, k):\n",
    "    vowel = ('a', 'e', 'i', 'o', 'u')\n",
    "    \n",
    "    current_v = 0\n",
    "    # create a starting window and find current value of\n",
    "    # vowel in it\n",
    "    for i in range(k):\n",
    "        if s[i] in vowel:\n",
    "            current_v += 1\n",
    "    # \n",
    "    max_v = current_v\n",
    "\n",
    "    # check the left most character \n",
    "    for i in range(len(s) - k):\n",
    "        j = i + k\n",
    "        if (s[i] in vowel) and (s[j] in vowel):\n",
    "            pass\n",
    "        elif (s[i] in vowel) and (s[j] not in vowel):\n",
    "            current_v -= 1\n",
    "        elif (s[i] not in vowel) and (s[j] in vowel):\n",
    "            current_v += 1\n",
    "        else:\n",
    "            pass\n",
    "\n",
    "        max_v = max(current_v, max_v)\n",
    "    \n",
    "    return max_v\n",
    "\n",
    "         \n",
    "\n"
   ]
  },
  {
   "cell_type": "markdown",
   "metadata": {},
   "source": [
    "!!! worked\n",
    "\n",
    "simple sliding window "
   ]
  },
  {
   "cell_type": "code",
   "execution_count": 4,
   "metadata": {},
   "outputs": [
    {
     "name": "stdout",
     "output_type": "stream",
     "text": [
      "3 2 2\n"
     ]
    }
   ],
   "source": [
    "print(maxVowels(s = \"abciiidef\", k = 3), maxVowels(s = \"aeiou\", k = 2), maxVowels(s = \"leetcode\", k = 3))"
   ]
  },
  {
   "cell_type": "code",
   "execution_count": null,
   "metadata": {},
   "outputs": [],
   "source": []
  }
 ],
 "metadata": {
  "kernelspec": {
   "display_name": "base",
   "language": "python",
   "name": "python3"
  },
  "language_info": {
   "codemirror_mode": {
    "name": "ipython",
    "version": 3
   },
   "file_extension": ".py",
   "mimetype": "text/x-python",
   "name": "python",
   "nbconvert_exporter": "python",
   "pygments_lexer": "ipython3",
   "version": "3.9.13"
  },
  "orig_nbformat": 4
 },
 "nbformat": 4,
 "nbformat_minor": 2
}
