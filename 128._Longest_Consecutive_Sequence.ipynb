{
 "cells": [
  {
   "cell_type": "code",
   "execution_count": 1,
   "metadata": {},
   "outputs": [],
   "source": [
    "nums = [0,3,7,2,5,8,4,6,0,1] "
   ]
  },
  {
   "attachments": {},
   "cell_type": "markdown",
   "metadata": {},
   "source": [
    "# 128. Longest Consecutive Sequence\n",
    "https://leetcode.com/problems/longest-consecutive-sequence/description/\n",
    "\n"
   ]
  },
  {
   "cell_type": "code",
   "execution_count": 32,
   "metadata": {},
   "outputs": [],
   "source": [
    "# wrong solution fails at \n",
    "# nums = [100,4,200,1,3,2] should give 3 but gives 4\n",
    "# need to find max len subsequence without sorting\n",
    "def sol(nums):\n",
    "    if len(nums) == 0:\n",
    "        return 0\n",
    "    l = set(nums)\n",
    "    l = list(l)\n",
    "    l = sorted(l)\n",
    "    seq_l = 1\n",
    "    ans_list = []\n",
    "    for i in range(1,len(l)):\n",
    "        if l[i]-l[i-1] == 1:\n",
    "            seq_l +=1\n",
    "        else:\n",
    "            if seq_l >1:\n",
    "                ans_list.append(seq_l)\n",
    "                seq_l = 1\n",
    "    ans_list.append(seq_l)\n",
    "    print(ans_list)\n",
    "    ans = max(ans_list)\n",
    "    return ans"
   ]
  },
  {
   "cell_type": "code",
   "execution_count": 33,
   "metadata": {},
   "outputs": [
    {
     "name": "stdout",
     "output_type": "stream",
     "text": [
      "[4, 1]\n",
      "4\n"
     ]
    }
   ],
   "source": [
    "# Input: nums = [0,3,7,2,5,8,4,6,0,1]\n",
    "# Output: 9\n",
    "# nums = [100,4,200,1,3,2]\n",
    "# nums = [0]\n",
    "# nums = [1,2,0,1]\n",
    "# nums = [0,3,7,2,5,8,4,6,0,1] \n",
    "nums = [100,4,200,1,3,2]\n",
    "print(sol(nums))"
   ]
  },
  {
   "cell_type": "code",
   "execution_count": null,
   "metadata": {},
   "outputs": [],
   "source": []
  },
  {
   "cell_type": "code",
   "execution_count": null,
   "metadata": {},
   "outputs": [],
   "source": []
  },
  {
   "cell_type": "code",
   "execution_count": null,
   "metadata": {},
   "outputs": [],
   "source": []
  }
 ],
 "metadata": {
  "kernelspec": {
   "display_name": "learn",
   "language": "python",
   "name": "python3"
  },
  "language_info": {
   "codemirror_mode": {
    "name": "ipython",
    "version": 3
   },
   "file_extension": ".py",
   "mimetype": "text/x-python",
   "name": "python",
   "nbconvert_exporter": "python",
   "pygments_lexer": "ipython3",
   "version": "3.9.16"
  },
  "orig_nbformat": 4
 },
 "nbformat": 4,
 "nbformat_minor": 2
}
