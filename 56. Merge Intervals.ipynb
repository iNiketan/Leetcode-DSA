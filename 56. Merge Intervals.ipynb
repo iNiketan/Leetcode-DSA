{
 "cells": [
  {
   "cell_type": "markdown",
   "metadata": {},
   "source": [
    "# 56. Merge Intervals\n",
    "\n",
    "https://leetcode.com/problems/merge-intervals/description/\n"
   ]
  },
  {
   "cell_type": "markdown",
   "metadata": {},
   "source": [
    "\n",
    "The first thing we'll do is sort intervals by the starting value of each interval. That'll make things much easier since we can now iterate through intervals in order. We'll also create a variable called merged which will contain our final answer, and initialize it to the first interval in intervals. Then we'll enter a loop that'll start by comaring the first two intervals:\n",
    "\n",
    "    1. Is the end of the first interval less than the start of the second interval? If so, then there is no overlap and we can just add the second interval to merged.\n",
    "    2. If not, then the two intervals overlap. We'll merge the intervals by comparing the ending values of both intervals, take the maximum, and make that the new end of the first interval.\n"
   ]
  },
  {
   "cell_type": "code",
   "execution_count": 19,
   "metadata": {},
   "outputs": [],
   "source": [
    "def sol(intervals):\n",
    "    # lets consider sorted array\n",
    "    intervals.sort(key= lambda x: x[0])\n",
    "    merged_array = [intervals[0]]\n",
    "    \n",
    "    for i in range(1, len(intervals)):\n",
    "        if merged_array[-1][1] >= intervals[i][0]:\n",
    "            merged_array[-1] = [merged_array[-1][0], max(merged_array[-1][1], intervals[i][1])]\n",
    "        else:\n",
    "            merged_array.append(intervals[i])\n",
    "    \n",
    "    return merged_array"
   ]
  },
  {
   "cell_type": "code",
   "execution_count": 20,
   "metadata": {},
   "outputs": [
    {
     "name": "stdout",
     "output_type": "stream",
     "text": [
      "[[1, 6], [8, 10], [15, 18]]\n",
      "[[1, 5]]\n"
     ]
    }
   ],
   "source": [
    "print(sol(intervals = [[1,3],[2,6],[8,10],[15,18]]))\n",
    "print(sol(intervals= [[1,4],[4,5]]))"
   ]
  },
  {
   "cell_type": "code",
   "execution_count": null,
   "metadata": {},
   "outputs": [],
   "source": []
  }
 ],
 "metadata": {
  "kernelspec": {
   "display_name": "learn",
   "language": "python",
   "name": "python3"
  },
  "language_info": {
   "codemirror_mode": {
    "name": "ipython",
    "version": 3
   },
   "file_extension": ".py",
   "mimetype": "text/x-python",
   "name": "python",
   "nbconvert_exporter": "python",
   "pygments_lexer": "ipython3",
   "version": "3.9.16"
  }
 },
 "nbformat": 4,
 "nbformat_minor": 2
}
