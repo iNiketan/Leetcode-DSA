{
 "cells": [
  {
   "cell_type": "code",
   "execution_count": 1,
   "metadata": {},
   "outputs": [],
   "source": [
    "import re"
   ]
  },
  {
   "attachments": {},
   "cell_type": "markdown",
   "metadata": {},
   "source": [
    "# 125. Valid Palindrome\n",
    "\n",
    "A phrase is a palindrome if, after converting all uppercase letters into lowercase letters and removing all non-alphanumeric characters, it reads the same forward and backward. Alphanumeric characters include letters and numbers.\n",
    "\n",
    "Given a string s, return true if it is a palindrome, or false otherwise.\n",
    "Input: s = \"A man, a plan, a canal: Panama\"\n",
    "Output: true\n",
    "Explanation: \"amanaplanacanalpanama\" is a palindrome."
   ]
  },
  {
   "cell_type": "code",
   "execution_count": 47,
   "metadata": {},
   "outputs": [],
   "source": [
    "def isPalindrome(s: str):\n",
    "    new_string = re.sub(r'[^a-zA-Z0-9]', '', s)\n",
    "    new_string = new_string.lower()\n",
    "    print(new_string)\n",
    "    head, tail = 0, len(new_string)-1\n",
    "    while head < tail:\n",
    "        if new_string[head] != new_string[tail]:\n",
    "            return False\n",
    "        head += 1\n",
    "        tail -= 1\n",
    "    return True\n"
   ]
  },
  {
   "attachments": {},
   "cell_type": "markdown",
   "metadata": {},
   "source": [
    "solution of above\n",
    "using start and end pointer if arr[i] which is starting element is \n",
    "same as arr[len - i] ending elemnt for all element \n",
    "it is a palindrom.\n",
    "it also cover all end cases like empty string and single character string\n"
   ]
  },
  {
   "attachments": {},
   "cell_type": "markdown",
   "metadata": {},
   "source": [
    "return true if string == to reverse string "
   ]
  },
  {
   "cell_type": "code",
   "execution_count": null,
   "metadata": {},
   "outputs": [],
   "source": [
    "def isPalindrome2(s: str):\n",
    "    new_string = re.sub(r'[^a-zA-Z0-9]', '', s)\n",
    "    new_string = new_string.lower()\n",
    "    print(new_string)\n",
    "    return new_string == new_string[::-1]"
   ]
  },
  {
   "cell_type": "code",
   "execution_count": 51,
   "metadata": {},
   "outputs": [],
   "source": [
    "# s = \"A man, a plan, a canal: Panama\"\n",
    "s = \"a.9ze9a\"\n",
    "# s = 'race a car'\n"
   ]
  },
  {
   "cell_type": "code",
   "execution_count": 52,
   "metadata": {},
   "outputs": [
    {
     "name": "stdout",
     "output_type": "stream",
     "text": [
      "False\n"
     ]
    }
   ],
   "source": [
    "print(isPalindrome(s))"
   ]
  },
  {
   "cell_type": "code",
   "execution_count": 31,
   "metadata": {},
   "outputs": [
    {
     "name": "stdout",
     "output_type": "stream",
     "text": [
      "AmanaplanacanalPanama\n"
     ]
    }
   ],
   "source": [
    "original_string = \"A man, a plan, a canal: Panama.92\"\n",
    "new_string = re.sub(r'[^a-zA-Z]', '', original_string)\n",
    "print(new_string)\n"
   ]
  },
  {
   "cell_type": "code",
   "execution_count": null,
   "metadata": {},
   "outputs": [],
   "source": []
  }
 ],
 "metadata": {
  "kernelspec": {
   "display_name": "learn",
   "language": "python",
   "name": "python3"
  },
  "language_info": {
   "codemirror_mode": {
    "name": "ipython",
    "version": 3
   },
   "file_extension": ".py",
   "mimetype": "text/x-python",
   "name": "python",
   "nbconvert_exporter": "python",
   "pygments_lexer": "ipython3",
   "version": "3.9.16"
  },
  "orig_nbformat": 4
 },
 "nbformat": 4,
 "nbformat_minor": 2
}
