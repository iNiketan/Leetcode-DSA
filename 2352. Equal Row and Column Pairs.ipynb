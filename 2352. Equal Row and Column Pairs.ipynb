{
 "cells": [
  {
   "cell_type": "markdown",
   "metadata": {},
   "source": [
    "# 2352. Equal Row and Column Pairs\n",
    "\n",
    "https://leetcode.com/problems/equal-row-and-column-pairs/description/?envType=study-plan-v2&envId=leetcode-75"
   ]
  },
  {
   "cell_type": "markdown",
   "metadata": {},
   "source": [
    "Intuition \n",
    "https://leetcode.com/problems/equal-row-and-column-pairs/solutions/4763133/easy-to-understand-solution-beats-90/?envType=study-plan-v2&envId=leetcode-75"
   ]
  },
  {
   "cell_type": "code",
   "execution_count": 10,
   "metadata": {},
   "outputs": [],
   "source": [
    "def equalPairs(grid):\n",
    "    rowCount = {}\n",
    "    pairs = 0\n",
    "\n",
    "    for i in range(len(grid)):\n",
    "        rowCount[tuple(grid[i])] = rowCount.get(tuple(grid[i]), 0) + 1\n",
    "    \n",
    "    for i in range(len(grid)):\n",
    "        thisColumn = [j[i] for j in grid]\n",
    "\n",
    "        if tuple(thisColumn) in rowCount:\n",
    "            pairs += rowCount[tuple(thisColumn)]\n",
    "    \n",
    "    return pairs\n"
   ]
  },
  {
   "cell_type": "code",
   "execution_count": 11,
   "metadata": {},
   "outputs": [
    {
     "name": "stdout",
     "output_type": "stream",
     "text": [
      "3\n"
     ]
    }
   ],
   "source": [
    "# l = [1,2,3]\n",
    "# grid = [[3,2,1],[1,7,6],[2,7,7]]\n",
    "grid = [[3,1,2,2],[1,4,4,5],[2,4,2,2],[2,4,2,2]]\n",
    "print(equalPairs(grid))"
   ]
  },
  {
   "cell_type": "markdown",
   "metadata": {},
   "source": [
    "wrong original solution "
   ]
  },
  {
   "cell_type": "code",
   "execution_count": 12,
   "metadata": {},
   "outputs": [
    {
     "name": "stdout",
     "output_type": "stream",
     "text": [
      "{0: '3122', 1: '1444', 2: '2422', 3: '2522'}\n",
      "{0: '3122', 1: '1445', 2: '2422', 3: '2422'}\n",
      "3\n"
     ]
    }
   ],
   "source": [
    "# print collumn \n",
    "row = {}\n",
    "column = {}\n",
    "for i in range(len(grid)):\n",
    "    column[i] = merged_col(i)\n",
    "    row[i] = merged_row(i)\n",
    "print(column)\n",
    "print(row)\n",
    "count = 0\n",
    "for i in range(len(grid)):\n",
    "    if row[i] in column.values():\n",
    "        count += 1\n",
    "print(count)\n",
    "def merged_row(i):\n",
    "    result = ''\n",
    "    for j in range(len(grid)):\n",
    "        result = result + str(grid[i][j])\n",
    "    return result\n",
    "        \n",
    "\n",
    "def merged_col(i):\n",
    "    result = ''\n",
    "    for j in range(len(grid)):\n",
    "        result = result + str(grid[j][i])\n",
    "    return result\n",
    "A = [1, 3, 5, 6]\n",
    "B = 5\n",
    "left = 0\n",
    "right = len(A)-1\n",
    "mid = 0\n",
    "while left <= right:\n",
    "    mid = (left + right)//2\n",
    "    if B == A[mid]:\n",
    "        print(mid)\n",
    "    elif B < A[mid]:\n",
    "        right = mid - 1\n",
    "    else:\n",
    "        left = mid + 1"
   ]
  },
  {
   "cell_type": "markdown",
   "metadata": {},
   "source": [
    "\n"
   ]
  },
  {
   "cell_type": "code",
   "execution_count": 2,
   "metadata": {},
   "outputs": [],
   "source": [
    "def subarraySum(nums, k):\n",
    "    i, j = 0, 1\n",
    "    count = 0\n",
    "    sum = nums[i] + nums[j]\n",
    "    while j < len(nums):\n",
    "        if sum == k:\n",
    "            count += 1\n",
    "            i += 1\n",
    "            j += 1\n",
    "        elif sum < k:\n",
    "            j += 1\n",
    "        else:\n",
    "            i += 1\n",
    "    \n",
    "    return count"
   ]
  },
  {
   "cell_type": "code",
   "execution_count": 4,
   "metadata": {},
   "outputs": [
    {
     "name": "stdout",
     "output_type": "stream",
     "text": [
      "2\n"
     ]
    }
   ],
   "source": [
    "print(subarraySum(nums = [1,2,3], k = 3))\n"
   ]
  },
  {
   "cell_type": "code",
   "execution_count": null,
   "metadata": {},
   "outputs": [],
   "source": []
  },
  {
   "cell_type": "code",
   "execution_count": null,
   "metadata": {},
   "outputs": [],
   "source": []
  },
  {
   "cell_type": "code",
   "execution_count": null,
   "metadata": {},
   "outputs": [],
   "source": []
  },
  {
   "cell_type": "code",
   "execution_count": null,
   "metadata": {},
   "outputs": [],
   "source": []
  }
 ],
 "metadata": {
  "kernelspec": {
   "display_name": "learn",
   "language": "python",
   "name": "python3"
  },
  "language_info": {
   "codemirror_mode": {
    "name": "ipython",
    "version": 3
   },
   "file_extension": ".py",
   "mimetype": "text/x-python",
   "name": "python",
   "nbconvert_exporter": "python",
   "pygments_lexer": "ipython3",
   "version": "3.9.16"
  }
 },
 "nbformat": 4,
 "nbformat_minor": 2
}
