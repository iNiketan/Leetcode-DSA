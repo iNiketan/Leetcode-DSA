{
 "cells": [
  {
   "cell_type": "markdown",
   "metadata": {},
   "source": [
    "# 2215. Find the Difference of Two Arrays\n",
    "\n",
    "https://leetcode.com/problems/find-the-difference-of-two-arrays/description/?envType=study-plan-v2&envId=leetcode-75\n",
    "\n"
   ]
  },
  {
   "cell_type": "code",
   "execution_count": 7,
   "metadata": {},
   "outputs": [],
   "source": []
  },
  {
   "cell_type": "code",
   "execution_count": 24,
   "metadata": {},
   "outputs": [
    {
     "name": "stdout",
     "output_type": "stream",
     "text": [
      "Counter({3: 2, 1: 1, 2: 1})\n"
     ]
    }
   ],
   "source": [
    "from collections import Counter\n",
    "p = Counter(nums1)\n",
    "print(p)"
   ]
  },
  {
   "cell_type": "code",
   "execution_count": 25,
   "metadata": {},
   "outputs": [
    {
     "name": "stdout",
     "output_type": "stream",
     "text": [
      "{1: 2, 2: 2, 3: 1, 4: 2, 5: 1}\n"
     ]
    }
   ],
   "source": [
    "# hash map creation\n",
    "d = {}\n",
    "nums3 = [1,2,2,3,4,5,4,1] \n",
    "for i in nums3:\n",
    "    if i not in d:\n",
    "        d[i] = 1\n",
    "    else:\n",
    "        d[i] += 1\n",
    "print(d)"
   ]
  },
  {
   "cell_type": "markdown",
   "metadata": {},
   "source": [
    "using set for removing repeated values <br>\n",
    "Algo <br> \n",
    "convert list to dist/ hash-map because index access takes constant time O(1) <br>\n",
    "then simply traverse both list one by one to if element present in other list or not <br>\n",
    "append unique element to temp list "
   ]
  },
  {
   "cell_type": "code",
   "execution_count": 21,
   "metadata": {},
   "outputs": [],
   "source": [
    "def findDifference(nums1, nums2):\n",
    "        nums1 = list(set(nums1))\n",
    "        nums2 = list(set(nums2))\n",
    "        d1 = {}\n",
    "        d2 = {}\n",
    "        # creating hash-map \n",
    "        for i in range(len(nums1)):\n",
    "            if nums1[i] not in d1:\n",
    "                d1[nums1[i]] = i\n",
    "        for i in range(len(nums2)):\n",
    "            if nums2[i] not in d2:\n",
    "                d2[nums2[i]] = i\n",
    "\n",
    "            \n",
    "        temp1, temp2 = [], []\n",
    "        for i in range(max(len(nums1), len(nums2))):\n",
    "            \n",
    "            if len(nums1) > len(nums2):\n",
    "                if nums1[i] not in d2: # if nums1 element present in nums2\n",
    "                    temp1.append(nums1[i])\n",
    "                if i < len(nums2): # if length of 1 > 2 avoid index out of bond error\n",
    "                    if nums2[i] not in d1: # if nums2 element present in nums1\n",
    "                        temp2.append(nums2[i])\n",
    "            \n",
    "            else: # same code as above length 2>1\n",
    "                if i < len(nums1):\n",
    "                    if nums1[i] not in d2:\n",
    "                        temp1.append(nums1[i])\n",
    "                if nums2[i] not in d1:\n",
    "                    temp2.append(nums2[i])\n",
    "\n",
    "        result = [temp1, temp2]\n",
    "        return result"
   ]
  },
  {
   "cell_type": "code",
   "execution_count": 22,
   "metadata": {},
   "outputs": [
    {
     "name": "stdout",
     "output_type": "stream",
     "text": [
      "[[1, 3], [4, 6]]\n"
     ]
    }
   ],
   "source": [
    "nums1 = [1,2,3] \n",
    "nums2 = [2,4,6]\n",
    "print(findDifference(nums1, nums2))"
   ]
  },
  {
   "cell_type": "code",
   "execution_count": 23,
   "metadata": {},
   "outputs": [
    {
     "name": "stdout",
     "output_type": "stream",
     "text": [
      "[[3], []]\n"
     ]
    }
   ],
   "source": [
    "nums1 = [1,2,3,3]\n",
    "nums2 = [1,1,2,2]\n",
    "print(findDifference(nums1, nums2))"
   ]
  },
  {
   "cell_type": "code",
   "execution_count": null,
   "metadata": {},
   "outputs": [],
   "source": [
    "\n",
    "# better solution\n",
    "def findDifference(self, nums1: List[int], nums2: List[int]) -> List[List[int]]:\n",
    "        set1 = set(nums1)\n",
    "        set2 = set(nums2)\n",
    "        answer = []\n",
    "\n",
    "        l = set()\n",
    "\n",
    "        for i in nums1:\n",
    "            if i not in set2:\n",
    "                l.add(i)\n",
    "        answer.append(l)\n",
    "\n",
    "        l = set()\n",
    "\n",
    "        for i in nums2:\n",
    "            if i not in set1:\n",
    "                l.add(i)\n",
    "        answer.append(l)\n",
    "\n",
    "        return answer\n",
    "\n",
    "\n",
    "def findDifference(self, nums1: List[int], nums2: List[int]) -> List[List[int]]:\n",
    "        set1 = set(nums1)\n",
    "        set2 = set(nums2)\n",
    "\n",
    "        difference1 = list(set1 - set2) \n",
    "        difference2 = list(set2 - set1)\n",
    "\n",
    "        answer = [difference1, difference2]\n",
    "\n",
    "\n",
    "        return answer"
   ]
  }
 ],
 "metadata": {
  "kernelspec": {
   "display_name": "learn",
   "language": "python",
   "name": "python3"
  },
  "language_info": {
   "codemirror_mode": {
    "name": "ipython",
    "version": 3
   },
   "file_extension": ".py",
   "mimetype": "text/x-python",
   "name": "python",
   "nbconvert_exporter": "python",
   "pygments_lexer": "ipython3",
   "version": "3.9.16"
  }
 },
 "nbformat": 4,
 "nbformat_minor": 2
}
