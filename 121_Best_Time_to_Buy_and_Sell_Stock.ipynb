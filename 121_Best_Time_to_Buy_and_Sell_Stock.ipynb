{
 "cells": [
  {
   "cell_type": "markdown",
   "metadata": {},
   "source": [
    "121. Best Time to Buy and Sell Stock\n",
    "\n",
    "https://leetcode.com/problems/best-time-to-buy-and-sell-stock/description/"
   ]
  },
  {
   "cell_type": "markdown",
   "metadata": {},
   "source": [
    "# two pointer solution\n",
    "look here https://leetcode.com/problems/best-time-to-buy-and-sell-stock/solutions/1735550/python-javascript-easy-solution-with-very-clear-explanation/\n",
    "also Neetcode solution youtube https://www.youtube.com/watch?v=1pkOgXD63yU\n"
   ]
  },
  {
   "cell_type": "code",
   "execution_count": 20,
   "metadata": {},
   "outputs": [],
   "source": [
    "def maxProfit(prices):\n",
    "    maxprofit = 0\n",
    "    i, j = 0, 1\n",
    "    \n",
    "    while j < len(prices):\n",
    "        profit = prices[j] - prices[i]\n",
    "        if prices[i] < prices[j]:\n",
    "            maxprofit = max(profit, maxprofit)\n",
    "            # print(maxprofit)\n",
    "        else: \n",
    "            i = j\n",
    "        j += 1\n",
    "    return maxprofit\n"
   ]
  },
  {
   "cell_type": "code",
   "execution_count": 19,
   "metadata": {},
   "outputs": [
    {
     "name": "stdout",
     "output_type": "stream",
     "text": [
      "5 1\n"
     ]
    }
   ],
   "source": [
    "print(maxProfit([7,1,5,3,6,4]), maxProfit([1,2]))"
   ]
  },
  {
   "cell_type": "code",
   "execution_count": null,
   "metadata": {},
   "outputs": [],
   "source": []
  }
 ],
 "metadata": {
  "kernelspec": {
   "display_name": "learn",
   "language": "python",
   "name": "python3"
  },
  "language_info": {
   "codemirror_mode": {
    "name": "ipython",
    "version": 3
   },
   "file_extension": ".py",
   "mimetype": "text/x-python",
   "name": "python",
   "nbconvert_exporter": "python",
   "pygments_lexer": "ipython3",
   "version": "3.9.16"
  },
  "orig_nbformat": 4
 },
 "nbformat": 4,
 "nbformat_minor": 2
}
