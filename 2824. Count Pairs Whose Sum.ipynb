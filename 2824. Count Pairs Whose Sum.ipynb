{
 "cells": [
  {
   "cell_type": "markdown",
   "metadata": {},
   "source": [
    "# 2824. Count Pairs Whose Sum is Less than Target\n",
    "\n",
    "https://leetcode.com/problems/count-pairs-whose-sum-is-less-than-target/description/"
   ]
  },
  {
   "cell_type": "markdown",
   "metadata": {},
   "source": [
    "### Intuition\n",
    "\n",
    "Problem: You're given an array of integers and a target value. The task is to count the number of pairs of elements in the array such that the sum of the pair is less than the target value.\n",
    "The key insight for solving this problem is recognizing that if you have an array sorted in ascending order, you can efficiently find pairs that meet the given condition using a Two-Pointers Approach.\n",
    "\n",
    "### Approach\n",
    "\n",
    "The Two-Pointers Approach is a common technique to solve problems involving arrays or sequences. In this case, you can use two pointers, often referred to as the \"left\" and \"right\" pointers, to traverse the array and find pairs that satisfy the given condition.\n",
    "\n",
    "Here's a high-level overview of the approach:\n",
    "\n",
    "1.) Sort the array in ascending order. Sorting helps in efficiently exploring pairs with sums less than the target value.\n",
    "\n",
    "2.) Initialize two pointers, left and right, pointing to the first and last elements of the sorted array, respectively.\n",
    "\n",
    "3.) Initialize a variable count to keep track of the count of valid pairs. <br>\n",
    "While the left pointer is less than the right pointer:<br>\n",
    "If the sum of the elements at left and right is less than the target value, it means all pairs with the current left element will also satisfy the condition. So, increment the count by right - left and move the left pointer to the right.<br>\n",
    "If the sum is greater than or equal to the target, move the right pointer to the left.\n",
    "\n",
    "\" if left + right < target then all values btw them in combination also be < target as array is sorted <br>\n",
    "it is similar to eg (-1,1) (-1,1) (-1,2) \n",
    "\n",
    "4.) Continue this process until the left pointer crosses the right pointer."
   ]
  },
  {
   "cell_type": "code",
   "execution_count": 12,
   "metadata": {},
   "outputs": [],
   "source": [
    "\n",
    "def countPairs(nums, target):\n",
    "    nums.sort() # sort the vector nums\n",
    "    count = 0 # variable to store the count\n",
    "    left = 0 # variable to store the left\n",
    "    right = len(nums)-1 # variable to store the right\n",
    "    while(left < right): # loop until left is less than right\n",
    "        if(nums[left] + nums[right] < target): # if nums[left] + nums[right] is less than target\n",
    "            count += right-left # update the count\n",
    "            left += 1 # increment the left\n",
    "        else: # else\n",
    "            right -= 1 # decrement the right\n",
    "    return count # return the count"
   ]
  },
  {
   "cell_type": "code",
   "execution_count": 14,
   "metadata": {},
   "outputs": [
    {
     "data": {
      "text/plain": [
       "3"
      ]
     },
     "execution_count": 14,
     "metadata": {},
     "output_type": "execute_result"
    }
   ],
   "source": [
    "countPairs(nums = [-1,1,2,3,1], target = 2)"
   ]
  },
  {
   "cell_type": "code",
   "execution_count": 9,
   "metadata": {},
   "outputs": [
    {
     "name": "stdout",
     "output_type": "stream",
     "text": [
      "[-1, 1, 1, 2, 3]\n",
      "2\n",
      "1\n",
      "3\n",
      "2\n",
      "1\n"
     ]
    }
   ],
   "source": [
    "nums = [-1,1,2,3,1]\n",
    "target = 2\n",
    "count = 0\n",
    "i, j = 0, len(nums) -1\n",
    "\n",
    "nums = sorted(nums)\n",
    "print(nums)\n",
    "while i < j:\n",
    "    print(nums[i] + nums[j])\n",
    "    g = nums[i] + nums[j]\n",
    "    if g < target:\n",
    "        count += 1 \n",
    "        i += 1\n",
    "    else:\n",
    "        j -= 1\n",
    "\n",
    "print(count)\n"
   ]
  },
  {
   "cell_type": "code",
   "execution_count": null,
   "metadata": {},
   "outputs": [],
   "source": []
  }
 ],
 "metadata": {
  "kernelspec": {
   "display_name": "learn",
   "language": "python",
   "name": "python3"
  },
  "language_info": {
   "codemirror_mode": {
    "name": "ipython",
    "version": 3
   },
   "file_extension": ".py",
   "mimetype": "text/x-python",
   "name": "python",
   "nbconvert_exporter": "python",
   "pygments_lexer": "ipython3",
   "version": "3.9.16"
  }
 },
 "nbformat": 4,
 "nbformat_minor": 2
}
