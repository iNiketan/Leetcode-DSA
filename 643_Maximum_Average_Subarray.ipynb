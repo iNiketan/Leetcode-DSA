{
 "cells": [
  {
   "cell_type": "markdown",
   "metadata": {},
   "source": [
    "# Sliding Window\n",
    "\n",
    "# 643. Maximum Average Subarray I\n",
    "\n",
    "https://leetcode.com/problems/maximum-average-subarray-i/description/?envType=study-plan-v2&envId=leetcode-75\n",
    "\n"
   ]
  },
  {
   "cell_type": "markdown",
   "metadata": {},
   "source": [
    "youtube explaination\n",
    "https://www.youtube.com/watch?v=GcW4mgmgSbw\n",
    "\n",
    "leetcode explaination\n",
    "https://leetcode.com/problems/maximum-average-subarray-i/solutions/3532127/py3-beginner-friendly-with-details-and-explanation/?envType=study-plan-v2&envId=leetcode-75"
   ]
  },
  {
   "cell_type": "code",
   "execution_count": 6,
   "metadata": {},
   "outputs": [],
   "source": [
    "def maxSum(nums, k):\n",
    "    n = len(nums)\n",
    "    window_sum = sum(nums[:k])\n",
    "    max_sum = window_sum\n",
    "    for i in range(n - k):\n",
    "        window_sum = window_sum - nums[i] + nums[i + k]\n",
    "        max_sum = max(window_sum, max_sum)\n",
    "    \n",
    "    return max_sum / k\n"
   ]
  },
  {
   "cell_type": "markdown",
   "metadata": {},
   "source": [
    "- we can solve this prob in log n2 or log n*k time with brute force\n",
    "- but with sliding window we solve it in log n\n",
    "- create a window of k size and slide this window by adding next element\n",
    "  and removing first element \n",
    "- eg [1,12,-5,-6,50,3] window [1,12,-5,-6] after sliding we will add 50 and sub 1\n",
    "   [12,-5,-6,50]"
   ]
  },
  {
   "cell_type": "code",
   "execution_count": 7,
   "metadata": {},
   "outputs": [
    {
     "name": "stdout",
     "output_type": "stream",
     "text": [
      "12.75 5.0\n"
     ]
    }
   ],
   "source": [
    "print(maxSum(nums = [1,12,-5,-6,50,3], k = 4), maxSum(nums = [5], k = 1))"
   ]
  },
  {
   "cell_type": "code",
   "execution_count": null,
   "metadata": {},
   "outputs": [],
   "source": []
  }
 ],
 "metadata": {
  "kernelspec": {
   "display_name": "base",
   "language": "python",
   "name": "python3"
  },
  "language_info": {
   "codemirror_mode": {
    "name": "ipython",
    "version": 3
   },
   "file_extension": ".py",
   "mimetype": "text/x-python",
   "name": "python",
   "nbconvert_exporter": "python",
   "pygments_lexer": "ipython3",
   "version": "3.9.16"
  },
  "orig_nbformat": 4
 },
 "nbformat": 4,
 "nbformat_minor": 2
}
