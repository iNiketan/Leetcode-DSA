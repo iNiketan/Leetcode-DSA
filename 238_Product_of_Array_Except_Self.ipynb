{
 "cells": [
  {
   "attachments": {},
   "cell_type": "markdown",
   "metadata": {},
   "source": [
    "# 238 Product of Array Except Self\n",
    "https://leetcode.com/problems/product-of-array-except-self/\n"
   ]
  },
  {
   "cell_type": "code",
   "execution_count": null,
   "metadata": {},
   "outputs": [],
   "source": [
    "# Input: nums = [1,2,3,4]\n",
    "# Output: [24,12,8,6]\n",
    "# Input: nums = [-1,1,0,-3,3]\n",
    "# Output: [0,0,9,0,0]"
   ]
  },
  {
   "cell_type": "code",
   "execution_count": 1,
   "metadata": {},
   "outputs": [],
   "source": [
    "nums = [1,2,3,4]\n",
    "#updated file"
   ]
  },
  {
   "attachments": {},
   "cell_type": "markdown",
   "metadata": {},
   "source": [
    "explaination in hinglish,\n",
    "\n",
    "create two array of length nums\n",
    "1.prefix array me nums array k element ka product start to n-1 \n",
    "2.postfix array product n-1 to 0\n",
    "- now agar mujhe ans[i] ki value hogi product of all element before and after ans[i]\n",
    "- jo ki equal hai = prefix[i-1] * postfix[i+1]\n",
    "- exeption i=0, i=n-1 yaha \n",
    "        if i == 0:\n",
    "            ans[i] = postfix[i+1]\n",
    "        elif i == len(nums)-1:\n",
    "            ans[i] = prefix[i-1]\n",
    "    kyuki inke prefix aur postfix exist nahi krte\n"
   ]
  },
  {
   "cell_type": "code",
   "execution_count": 1,
   "metadata": {},
   "outputs": [],
   "source": [
    "# solution with On time \n",
    "# simple solution\n",
    "def sol(nums):\n",
    "    print(nums)\n",
    "    # defining prefix postfix array\n",
    "    prefix = []\n",
    "    postfix = [1]*len(nums)\n",
    "    v = 1\n",
    "    # populating both array\n",
    "    for i in range(len(nums)):\n",
    "        v = v*nums[i]\n",
    "        prefix.append(v)\n",
    "    print(prefix)\n",
    "    v = 1\n",
    "    for i in range(len(nums)-1, -1, -1):\n",
    "        v = v*nums[i]\n",
    "        postfix[i] = v\n",
    "    print(postfix)\n",
    "    \n",
    "    # applying above logic\n",
    "    ans = [1]*len(nums)\n",
    "    for i in range(len(nums)):\n",
    "        if i == 0:\n",
    "            ans[i] = postfix[i+1]\n",
    "        elif i == len(nums)-1:\n",
    "            ans[i] = prefix[i-1]\n",
    "        else:\n",
    "            ans[i] = prefix[i-1] * postfix[i+1]\n",
    "    print(ans)\n",
    "\n",
    "\n",
    "\n"
   ]
  },
  {
   "cell_type": "code",
   "execution_count": 1,
   "metadata": {},
   "outputs": [],
   "source": [
    "# optimised solution \n",
    "class Solution:\n",
    "    def productExceptSelf(self, nums: List[int]) -> List[int]:\n",
    "        res = [1] * (len(nums))\n",
    "\n",
    "        prefix = 1\n",
    "        for i in range(len(nums)):\n",
    "            res[i] = prefix\n",
    "            prefix *= nums[i]\n",
    "        postfix = 1\n",
    "        for i in range(len(nums) - 1, -1, -1):\n",
    "            res[i] *= postfix\n",
    "            postfix *= nums[i]\n",
    "        return res\n"
   ]
  },
  {
   "cell_type": "code",
   "execution_count": 20,
   "metadata": {},
   "outputs": [
    {
     "name": "stdout",
     "output_type": "stream",
     "text": [
      "[1, 2, 3, 4]\n",
      "[1, 2, 6, 24]\n",
      "[24, 24, 12, 4]\n",
      "[24, 12, 8, 6]\n"
     ]
    }
   ],
   "source": [
    "sol(nums)"
   ]
  },
  {
   "cell_type": "code",
   "execution_count": null,
   "metadata": {},
   "outputs": [],
   "source": []
  }
 ],
 "metadata": {
  "kernelspec": {
   "display_name": "learn",
   "language": "python",
   "name": "python3"
  },
  "language_info": {
   "codemirror_mode": {
    "name": "ipython",
    "version": 3
   },
   "file_extension": ".py",
   "mimetype": "text/x-python",
   "name": "python",
   "nbconvert_exporter": "python",
   "pygments_lexer": "ipython3",
   "version": "3.9.16"
  },
  "orig_nbformat": 4
 },
 "nbformat": 4,
 "nbformat_minor": 2
}
